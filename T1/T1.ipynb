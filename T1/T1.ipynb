{
 "cells": [
  {
   "cell_type": "code",
   "execution_count": 10,
   "metadata": {},
   "outputs": [],
   "source": [
    "import pandas as pd\n",
    "from scipy.stats import chi2_contingency\n",
    "from scipy.stats import fisher_exact\n",
    "data=pd.read_csv('../sheet0_num.csv').drop(['id'],axis=1)\n",
    "# \"文物编号\": \"id\"\n",
    "# \"纹饰\": \"ornament\"\n",
    "# \"类型\": \"type\"\n",
    "# \"颜色\": \"color\"\n",
    "# \"表面风化\": \"degree\""
   ]
  },
  {
   "cell_type": "code",
   "execution_count": 12,
   "metadata": {},
   "outputs": [],
   "source": [
    "ct1 = pd.crosstab(data.degree, data.ornament)\n",
    "ct2 = pd.crosstab(data.degree, data.type)\n",
    "ct3 = pd.crosstab(data.degree, data.type)\n",
    "# 建立列联表，1是纹饰和风化程度，2是类型和风化程度，3是颜色和风化程度\n"
   ]
  },
  {
   "cell_type": "code",
   "execution_count": 13,
   "metadata": {},
   "outputs": [
    {
     "name": "stdout",
     "output_type": "stream",
     "text": [
      "ornament   0  1   2\n",
      "degree             \n",
      "0         11  0  13\n",
      "1         11  6  17\n",
      "type     0   1\n",
      "degree        \n",
      "0       12  12\n",
      "1       28   6\n",
      "type     0   1\n",
      "degree        \n",
      "0       12  12\n",
      "1       28   6\n"
     ]
    }
   ],
   "source": [
    "print(ct1)\n",
    "print(ct2)\n",
    "print(ct3)"
   ]
  },
  {
   "cell_type": "code",
   "execution_count": 8,
   "metadata": {},
   "outputs": [
    {
     "ename": "ValueError",
     "evalue": "The input `table` must be of shape (2, 2).",
     "output_type": "error",
     "traceback": [
      "\u001b[0;31m---------------------------------------------------------------------------\u001b[0m",
      "\u001b[0;31mValueError\u001b[0m                                Traceback (most recent call last)",
      "\u001b[0;32m/tmp/ipykernel_4481/3737773923.py\u001b[0m in \u001b[0;36m<module>\u001b[0;34m\u001b[0m\n\u001b[1;32m     18\u001b[0m \u001b[0;31m# p_value： 浮点数\u001b[0m\u001b[0;34m\u001b[0m\u001b[0;34m\u001b[0m\u001b[0;34m\u001b[0m\u001b[0m\n\u001b[1;32m     19\u001b[0m \u001b[0mkf\u001b[0m \u001b[0;34m=\u001b[0m \u001b[0mchi2_contingency\u001b[0m\u001b[0;34m(\u001b[0m\u001b[0mct1\u001b[0m\u001b[0;34m)\u001b[0m\u001b[0;34m\u001b[0m\u001b[0;34m\u001b[0m\u001b[0m\n\u001b[0;32m---> 20\u001b[0;31m \u001b[0mfe\u001b[0m \u001b[0;34m=\u001b[0m \u001b[0mfisher_exact\u001b[0m\u001b[0;34m(\u001b[0m\u001b[0mct1\u001b[0m\u001b[0;34m)\u001b[0m\u001b[0;34m\u001b[0m\u001b[0;34m\u001b[0m\u001b[0m\n\u001b[0m\u001b[1;32m     21\u001b[0m \u001b[0mprint\u001b[0m\u001b[0;34m(\u001b[0m\u001b[0;34m'chisq-statistic=%.4f, p-value=%.4f, df=%i expected_frep=%s'\u001b[0m \u001b[0;34m%\u001b[0m \u001b[0mkf\u001b[0m\u001b[0;34m)\u001b[0m\u001b[0;34m\u001b[0m\u001b[0;34m\u001b[0m\u001b[0m\n\u001b[1;32m     22\u001b[0m \u001b[0;34m\u001b[0m\u001b[0m\n",
      "\u001b[0;32m/home/le/anaconda3/envs/ms/lib/python3.7/site-packages/scipy/stats/stats.py\u001b[0m in \u001b[0;36mfisher_exact\u001b[0;34m(table, alternative)\u001b[0m\n\u001b[1;32m   4030\u001b[0m     \u001b[0mc\u001b[0m \u001b[0;34m=\u001b[0m \u001b[0mnp\u001b[0m\u001b[0;34m.\u001b[0m\u001b[0masarray\u001b[0m\u001b[0;34m(\u001b[0m\u001b[0mtable\u001b[0m\u001b[0;34m,\u001b[0m \u001b[0mdtype\u001b[0m\u001b[0;34m=\u001b[0m\u001b[0mnp\u001b[0m\u001b[0;34m.\u001b[0m\u001b[0mint64\u001b[0m\u001b[0;34m)\u001b[0m  \u001b[0;31m# int32 is not enough for the algorithm\u001b[0m\u001b[0;34m\u001b[0m\u001b[0;34m\u001b[0m\u001b[0m\n\u001b[1;32m   4031\u001b[0m     \u001b[0;32mif\u001b[0m \u001b[0;32mnot\u001b[0m \u001b[0mc\u001b[0m\u001b[0;34m.\u001b[0m\u001b[0mshape\u001b[0m \u001b[0;34m==\u001b[0m \u001b[0;34m(\u001b[0m\u001b[0;36m2\u001b[0m\u001b[0;34m,\u001b[0m \u001b[0;36m2\u001b[0m\u001b[0;34m)\u001b[0m\u001b[0;34m:\u001b[0m\u001b[0;34m\u001b[0m\u001b[0;34m\u001b[0m\u001b[0m\n\u001b[0;32m-> 4032\u001b[0;31m         \u001b[0;32mraise\u001b[0m \u001b[0mValueError\u001b[0m\u001b[0;34m(\u001b[0m\u001b[0;34m\"The input `table` must be of shape (2, 2).\"\u001b[0m\u001b[0;34m)\u001b[0m\u001b[0;34m\u001b[0m\u001b[0;34m\u001b[0m\u001b[0m\n\u001b[0m\u001b[1;32m   4033\u001b[0m \u001b[0;34m\u001b[0m\u001b[0m\n\u001b[1;32m   4034\u001b[0m     \u001b[0;32mif\u001b[0m \u001b[0mnp\u001b[0m\u001b[0;34m.\u001b[0m\u001b[0many\u001b[0m\u001b[0;34m(\u001b[0m\u001b[0mc\u001b[0m \u001b[0;34m<\u001b[0m \u001b[0;36m0\u001b[0m\u001b[0;34m)\u001b[0m\u001b[0;34m:\u001b[0m\u001b[0;34m\u001b[0m\u001b[0;34m\u001b[0m\u001b[0m\n",
      "\u001b[0;31mValueError\u001b[0m: The input `table` must be of shape (2, 2)."
     ]
    }
   ],
   "source": [
    "# 纹饰和风化程度\n",
    "# chi2： 浮点数\n",
    "# 检验统计量。\n",
    "\n",
    "# p： 浮点数\n",
    "# 测试的p-value\n",
    "\n",
    "# dof： int\n",
    "# 自由度\n",
    "\n",
    "# expected： ndarray，形状与观察到的\n",
    "# 预期频率，基于表格的边际总和。\n",
    "\n",
    "\n",
    "# oddsratio： 浮点数\n",
    "# 这是先验优势比，而不是后验估计。\n",
    "\n",
    "# p_value： 浮点数\n",
    "kf = chi2_contingency(ct1)\n",
    "fe = fisher_exact(ct1)\n",
    "print('chisq-statistic=%.4f, p-value=%.4f, df=%i expected_frep=%s' % kf)\n",
    "\n",
    "print('oddsratio=% .4f, p-value= % .4f' % fe)\n"
   ]
  },
  {
   "cell_type": "code",
   "execution_count": null,
   "metadata": {},
   "outputs": [
    {
     "name": "stdout",
     "output_type": "stream",
     "text": [
      "chisq-statistic=5.4518, p-value=0.0195, df=1 expected_frep=[[16.55172414 23.44827586]\n",
      " [ 7.44827586 10.55172414]]\n"
     ]
    }
   ],
   "source": [
    "# 类型和风化程度\n",
    "kf = chi2_contingency(ct2)\n",
    "fe = fisher_exact(ct2)\n",
    "print('chisq-statistic=%.4f, p-value=%.4f, df=%i expected_frep=%s' % kf)\n",
    "\n",
    "print('oddsratio=% .4f, p-value= % .4f' % fe)\n"
   ]
  },
  {
   "cell_type": "code",
   "execution_count": null,
   "metadata": {},
   "outputs": [
    {
     "name": "stdout",
     "output_type": "stream",
     "text": [
      "chisq-statistic=9.4324, p-value=0.3071, df=8 expected_frep=[[ 1.24137931  1.75862069]\n",
      " [ 8.27586207 11.72413793]\n",
      " [ 2.89655172  4.10344828]\n",
      " [ 0.82758621  1.17241379]\n",
      " [ 1.65517241  2.34482759]\n",
      " [ 0.4137931   0.5862069 ]\n",
      " [ 6.20689655  8.79310345]\n",
      " [ 0.82758621  1.17241379]\n",
      " [ 1.65517241  2.34482759]]\n"
     ]
    }
   ],
   "source": [
    "# 颜色和风化程度\n",
    "kf = chi2_contingency(ct3)\n",
    "fe = fisher_exact(ct3)\n",
    "print('chisq-statistic=%.4f, p-value=%.4f, df=%i expected_frep=%s' % kf)\n",
    "print('oddsratio=% .4f, p-value= % .4f' % fe)\n"
   ]
  }
 ],
 "metadata": {
  "kernelspec": {
   "display_name": "Python 3.9.7 ('base')",
   "language": "python",
   "name": "python3"
  },
  "language_info": {
   "codemirror_mode": {
    "name": "ipython",
    "version": 3
   },
   "file_extension": ".py",
   "mimetype": "text/x-python",
   "name": "python",
   "nbconvert_exporter": "python",
   "pygments_lexer": "ipython3",
   "version": "3.9.7"
  },
  "orig_nbformat": 4,
  "vscode": {
   "interpreter": {
    "hash": "648d8d9586a5c78aacf5d2001e33b7f17efe48eb523fe8964abf0a6c8058fa92"
   }
  }
 },
 "nbformat": 4,
 "nbformat_minor": 2
}
