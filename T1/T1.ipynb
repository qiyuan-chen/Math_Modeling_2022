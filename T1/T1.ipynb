{
 "cells": [
  {
   "cell_type": "code",
   "execution_count": 23,
   "metadata": {},
   "outputs": [],
   "source": [
    "import pandas as pd\n",
    "from scipy.stats import chi2_contingency\n",
    "from scipy.stats import fisher_exact\n",
    "data=pd.read_csv('../sheet0_num.csv').drop(['id'],axis=1)\n",
    "# \"文物编号\": \"id\"\n",
    "# \"纹饰\": \"ornament\"\n",
    "# \"类型\": \"type\"\n",
    "# \"颜色\": \"color\"\n",
    "# \"表面风化\": \"degree\""
   ]
  },
  {
   "cell_type": "code",
   "execution_count": 24,
   "metadata": {},
   "outputs": [],
   "source": [
    "ct1 = pd.crosstab(data.degree, data.ornament)\n",
    "ct2 = pd.crosstab(data.degree, data.type)\n",
    "ct3 = pd.crosstab(data.degree, data.color)\n",
    "# 建立列联表，1是纹饰和风化程度，2是类型和风化程度，3是颜色和风化程度\n"
   ]
  },
  {
   "cell_type": "code",
   "execution_count": 25,
   "metadata": {},
   "outputs": [
    {
     "name": "stdout",
     "output_type": "stream",
     "text": [
      "ornament   0  1   2\n",
      "degree             \n",
      "0         11  0  13\n",
      "1         11  6  17\n",
      "type     0   1\n",
      "degree        \n",
      "0       12  12\n",
      "1       28   6\n",
      "color   0   1  2  3  4  5  6  7  8\n",
      "degree                            \n",
      "0       2   8  3  2  2  1  6  0  0\n",
      "1       1  12  4  0  2  0  9  2  4\n"
     ]
    }
   ],
   "source": [
    "print(ct1)\n",
    "print(ct2)\n",
    "print(ct3)"
   ]
  },
  {
   "cell_type": "code",
   "execution_count": 26,
   "metadata": {},
   "outputs": [
    {
     "name": "stdout",
     "output_type": "stream",
     "text": [
      "chisq-statistic=4.9565, p-value=0.0839, df=2 expected_frep=[[ 9.10344828  2.48275862 12.4137931 ]\n",
      " [12.89655172  3.51724138 17.5862069 ]]\n"
     ]
    }
   ],
   "source": [
    "# 纹饰和风化程度\n",
    "# chi2： 浮点数\n",
    "# 检验统计量。\n",
    "\n",
    "# p： 浮点数\n",
    "# 测试的p-value\n",
    "\n",
    "# dof： int\n",
    "# 自由度\n",
    "\n",
    "# expected： ndarray，形状与观察到的\n",
    "# 预期频率，基于表格的边际总和。\n",
    "\n",
    "\n",
    "# oddsratio： 浮点数\n",
    "# 这是先验优势比，而不是后验估计。\n",
    "\n",
    "# p_value： 浮点数\n",
    "kf = chi2_contingency(ct1)\n",
    "print('chisq-statistic=%.4f, p-value=%.4f, df=%i expected_frep=%s' % kf)\n",
    "\n"
   ]
  },
  {
   "cell_type": "code",
   "execution_count": 27,
   "metadata": {},
   "outputs": [
    {
     "name": "stdout",
     "output_type": "stream",
     "text": [
      "chisq-statistic=5.4518, p-value=0.0195, df=1 expected_frep=[[16.55172414  7.44827586]\n",
      " [23.44827586 10.55172414]]\n"
     ]
    }
   ],
   "source": [
    "# 类型和风化程度\n",
    "kf = chi2_contingency(ct2)\n",
    "print('chisq-statistic=%.4f, p-value=%.4f, df=%i expected_frep=%s' % kf)\n"
   ]
  },
  {
   "cell_type": "code",
   "execution_count": 28,
   "metadata": {},
   "outputs": [
    {
     "name": "stdout",
     "output_type": "stream",
     "text": [
      "chisq-statistic=9.4324, p-value=0.3071, df=8 expected_frep=[[ 1.24137931  8.27586207  2.89655172  0.82758621  1.65517241  0.4137931\n",
      "   6.20689655  0.82758621  1.65517241]\n",
      " [ 1.75862069 11.72413793  4.10344828  1.17241379  2.34482759  0.5862069\n",
      "   8.79310345  1.17241379  2.34482759]]\n"
     ]
    }
   ],
   "source": [
    "# 颜色和风化程度\n",
    "kf = chi2_contingency(ct3)\n",
    "print('chisq-statistic=%.4f, p-value=%.4f, df=%i expected_frep=%s' % kf)\n"
   ]
  }
 ],
 "metadata": {
  "kernelspec": {
   "display_name": "Python 3.9.7 ('base')",
   "language": "python",
   "name": "python3"
  },
  "language_info": {
   "codemirror_mode": {
    "name": "ipython",
    "version": 3
   },
   "file_extension": ".py",
   "mimetype": "text/x-python",
   "name": "python",
   "nbconvert_exporter": "python",
   "pygments_lexer": "ipython3",
   "version": "3.9.7"
  },
  "orig_nbformat": 4,
  "vscode": {
   "interpreter": {
    "hash": "648d8d9586a5c78aacf5d2001e33b7f17efe48eb523fe8964abf0a6c8058fa92"
   }
  }
 },
 "nbformat": 4,
 "nbformat_minor": 2
}
