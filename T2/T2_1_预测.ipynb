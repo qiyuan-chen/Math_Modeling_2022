{
 "cells": [
  {
   "cell_type": "code",
   "execution_count": 24,
   "metadata": {},
   "outputs": [],
   "source": [
    "from sklearn.metrics import r2_score\n",
    "from sklearn.model_selection import train_test_split\n",
    "import pandas as pd\n",
    "\n",
    "data1 = pd.read_csv(\"../data_after_cleaning.csv\")\n",
    "\n",
    "SEED = 4\n",
    "\n",
    "X_without_noise = data1.drop(columns=['type'])\n",
    "y_without_noise = data1['type']\n",
    "\n",
    "X_train_without_noise, X_test_without_noise, y_train_without_noise, y_test_without_noise = train_test_split(X_without_noise, y_without_noise, test_size=0.4, random_state=SEED)\n"
   ]
  },
  {
   "cell_type": "code",
   "execution_count": 25,
   "metadata": {},
   "outputs": [],
   "source": [
    "from sklearn.linear_model import Lasso\n",
    "import numpy as np\n",
    "\n",
    "# lasso 回归 模型\n",
    "\n",
    "# 模型参数\n",
    "ALPHA = 0.0125\n",
    "\n",
    "# 学习模型\n",
    "lasso = Lasso(alpha=ALPHA)\n",
    "lasso.fit(X_train_without_noise, y_train_without_noise)\n",
    "\n",
    "def lasso_classification_func(X):\n",
    "    return np.where(lasso.predict(X) >= 1 / 2, 1, 0)\n"
   ]
  },
  {
   "cell_type": "code",
   "execution_count": 26,
   "metadata": {},
   "outputs": [
    {
     "data": {
      "text/plain": [
       "XGBClassifier(base_score=0.5, booster='gbtree', callbacks=None,\n",
       "              colsample_bylevel=1, colsample_bynode=1, colsample_bytree=1,\n",
       "              early_stopping_rounds=None, enable_categorical=False,\n",
       "              eval_metric=None, gamma=0, gpu_id=-1, grow_policy='depthwise',\n",
       "              importance_type=None, interaction_constraints='',\n",
       "              learning_rate=0.300000012, max_bin=256, max_cat_to_onehot=4,\n",
       "              max_delta_step=0, max_depth=2, max_leaves=0, min_child_weight=1,\n",
       "              missing=nan, monotone_constraints='()', n_estimators=100,\n",
       "              n_jobs=0, num_parallel_tree=1, predictor='auto', random_state=0,\n",
       "              reg_alpha=0, reg_lambda=1, ...)"
      ]
     },
     "execution_count": 26,
     "metadata": {},
     "output_type": "execute_result"
    }
   ],
   "source": [
    "# XGBOOST 决策树模型\n",
    "\n",
    "from xgboost import XGBClassifier\n",
    "from sklearn.metrics import classification_report\n",
    "\n",
    "xgb=XGBClassifier(max_depth=2)\n",
    "xgb.fit(X_train_without_noise,y_train_without_noise)\n"
   ]
  },
  {
   "cell_type": "code",
   "execution_count": 27,
   "metadata": {},
   "outputs": [],
   "source": [
    "import pandas as pd\n",
    "import numpy as np\n",
    "from sklearn.decomposition import PCA\n",
    "from sklearn.manifold import TSNE\n",
    "from sklearn.preprocessing import StandardScaler\n",
    "from sklearn.neighbors import KNeighborsClassifier\n",
    "\n",
    "std = StandardScaler()\n",
    "\n",
    "pca = PCA(n_components=2)\n",
    "data_train = X_train_without_noise\n",
    "color = y_train_without_noise\n",
    "data_after_pca = pca.fit_transform(data_train)\n",
    "data_after_pca = pd.DataFrame(data_after_pca)\n",
    "knn = KNeighborsClassifier(n_neighbors=1)\n",
    "knn.fit(data_after_pca, color)\n",
    "\n",
    "def pca_predict(X):\n",
    "    X = pca.transform(X)\n",
    "    return knn.predict(pd.DataFrame(X))\n"
   ]
  },
  {
   "cell_type": "code",
   "execution_count": 28,
   "metadata": {},
   "outputs": [
    {
     "name": "stdout",
     "output_type": "stream",
     "text": [
      "lasso: [1 0 0 0 0 1 1 0]\n",
      "xgboost: [1 0 0 0 0 1 1 0]\n",
      "pca+knn:[1 0 0 0 0 1 1 0]\n"
     ]
    }
   ],
   "source": [
    "import pandas as pd\n",
    "\n",
    "degree_dict = {\n",
    "    \"无风化\" : 0,\n",
    "    \"风化\"   : 1,\n",
    "}\n",
    "\n",
    "data = pd.read_csv(\"../sheet2_origin.csv\").fillna(0)\n",
    "data['degree'] = data['degree'].map(degree_dict)\n",
    "\n",
    "X_test = data[X_without_noise.columns]\n",
    "\n",
    "y_pred_lasso = lasso_classification_func(X_test)\n",
    "y_pred_xgb = xgb.predict(X_test)\n",
    "y_pred_pca = pca_predict(X_test)\n",
    "\n",
    "print(f'lasso: {y_pred_lasso}\\nxgboost: {y_pred_xgb}\\npca+knn:{y_pred_pca}')"
   ]
  }
 ],
 "metadata": {
  "kernelspec": {
   "display_name": "Python 3.9.7 ('base')",
   "language": "python",
   "name": "python3"
  },
  "language_info": {
   "codemirror_mode": {
    "name": "ipython",
    "version": 3
   },
   "file_extension": ".py",
   "mimetype": "text/x-python",
   "name": "python",
   "nbconvert_exporter": "python",
   "pygments_lexer": "ipython3",
   "version": "3.9.7"
  },
  "orig_nbformat": 4,
  "vscode": {
   "interpreter": {
    "hash": "648d8d9586a5c78aacf5d2001e33b7f17efe48eb523fe8964abf0a6c8058fa92"
   }
  }
 },
 "nbformat": 4,
 "nbformat_minor": 2
}
