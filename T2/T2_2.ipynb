{
 "cells": [
  {
   "cell_type": "code",
   "execution_count": 23,
   "metadata": {},
   "outputs": [
    {
     "name": "stdout",
     "output_type": "stream",
     "text": [
      "[0.2917337  0.16213824 0.11974728 0.0738582  0.07178066]\n",
      "           0         1         2         3         4\n",
      "0  -2.822949  0.783537  1.914950 -0.486855 -0.707237\n",
      "1   0.130044  1.255846 -1.463708 -0.501260 -0.402941\n",
      "2  -2.086479 -1.621001  0.344242 -0.053912 -1.134221\n",
      "3  -2.837003  1.291020  2.303438 -0.375834 -0.177015\n",
      "4  -3.411804  1.750495  1.310092 -0.315499 -0.210052\n",
      "..       ...       ...       ...       ...       ...\n",
      "64  3.289675  2.277595 -2.174808 -0.095563  0.145692\n",
      "65  0.014963 -1.934747 -0.089297 -0.430331  0.234949\n",
      "66  1.686975 -0.965536 -0.357128 -0.209274 -0.817710\n",
      "67  1.729320 -1.158072 -0.164864 -0.188762 -0.570153\n",
      "68  1.404507  1.322516 -0.258215 -0.506153 -0.620631\n",
      "\n",
      "[69 rows x 5 columns]\n"
     ]
    }
   ],
   "source": [
    "import pandas as pd\n",
    "import numpy as np\n",
    "from sklearn.decomposition import PCA\n",
    "from sklearn.manifold import TSNE\n",
    "from sklearn.preprocessing import StandardScaler\n",
    "data=pd.read_csv(\"../std_data.csv\").drop([\"id\"],axis=1)\n",
    "\n",
    "std = StandardScaler()\n",
    "\n",
    "pca = PCA(n_components=5)\n",
    "data_train = data.drop([\"type\"], axis=1)\n",
    "color = data[\"type\"]\n",
    "data_train = std.fit_transform(data_train)\n",
    "data_after_pca = pca.fit_transform(data_train)\n",
    "print(pca.explained_variance_ratio_)\n",
    "data_after_pca = pd.DataFrame(data_after_pca)\n",
    "print(data_after_pca)\n"
   ]
  },
  {
   "cell_type": "code",
   "execution_count": 24,
   "metadata": {},
   "outputs": [
    {
     "name": "stderr",
     "output_type": "stream",
     "text": [
      "/home/cqy/anaconda3/lib/python3.9/site-packages/matplotlib/backends/backend_agg.py:240: RuntimeWarning: Glyph 39640 missing from current font.\n",
      "  font.set_text(s, 0.0, flags=flags)\n",
      "/home/cqy/anaconda3/lib/python3.9/site-packages/matplotlib/backends/backend_agg.py:240: RuntimeWarning: Glyph 38078 missing from current font.\n",
      "  font.set_text(s, 0.0, flags=flags)\n",
      "/home/cqy/anaconda3/lib/python3.9/site-packages/matplotlib/backends/backend_agg.py:240: RuntimeWarning: Glyph 38049 missing from current font.\n",
      "  font.set_text(s, 0.0, flags=flags)\n",
      "/home/cqy/anaconda3/lib/python3.9/site-packages/matplotlib/backends/backend_agg.py:240: RuntimeWarning: Glyph 38085 missing from current font.\n",
      "  font.set_text(s, 0.0, flags=flags)\n",
      "/home/cqy/anaconda3/lib/python3.9/site-packages/matplotlib/backends/backend_agg.py:203: RuntimeWarning: Glyph 39640 missing from current font.\n",
      "  font.set_text(s, 0, flags=flags)\n",
      "/home/cqy/anaconda3/lib/python3.9/site-packages/matplotlib/backends/backend_agg.py:203: RuntimeWarning: Glyph 38078 missing from current font.\n",
      "  font.set_text(s, 0, flags=flags)\n",
      "/home/cqy/anaconda3/lib/python3.9/site-packages/matplotlib/backends/backend_agg.py:203: RuntimeWarning: Glyph 38049 missing from current font.\n",
      "  font.set_text(s, 0, flags=flags)\n",
      "/home/cqy/anaconda3/lib/python3.9/site-packages/matplotlib/backends/backend_agg.py:203: RuntimeWarning: Glyph 38085 missing from current font.\n",
      "  font.set_text(s, 0, flags=flags)\n"
     ]
    },
    {
     "data": {
      "image/png": "[encoded data removed]",
      "text/plain": [
       "<Figure size 360x360 with 1 Axes>"
      ]
     },
     "metadata": {
      "needs_background": "light"
     },
     "output_type": "display_data"
    }
   ],
   "source": [
    "import seaborn as sns\n",
    "import matplotlib.pyplot as plt\n",
    "colors=[]\n",
    "colors_=[]\n",
    "mask=[]\n",
    "mask_=[]\n",
    "for i in range(len(color)):\n",
    "    if color[i] == 1:\n",
    "        # 高钾\n",
    "        colors.append('#8ECFC9')\n",
    "        mask.append(True)\n",
    "        mask_.append(False)\n",
    "    else:\n",
    "        # 钡铅\n",
    "        colors_.append('#FA7F6F')\n",
    "        mask_.append(True)\n",
    "        mask.append(False)\n",
    "%matplotlib inline\n",
    "plt.figure(figsize=[5, 5])\n",
    "sns.scatterplot(x=(np.array(data_after_pca[0])[mask]),\n",
    "                y=(np.array(data_after_pca[1])[mask]), color='#8ECFC9', label='高钾')\n",
    "sns.scatterplot(x=(np.array(data_after_pca[0])[mask_]),\n",
    "                y=(np.array(data_after_pca[1])[mask_]), color='#FA7F6F', label='钡铅')\n",
    "plt.xlabel(\"Principal Components 1\")\n",
    "plt.ylabel(\"Principal Components 2\")\n",
    "plt.legend()\n",
    "plt.savefig(\"pca_fig.png\")\n"
   ]
  },
  {
   "cell_type": "code",
   "execution_count": 25,
   "metadata": {},
   "outputs": [
    {
     "name": "stdout",
     "output_type": "stream",
     "text": [
      "weight: [ 0.06206394 -0.25067724 -0.02747307 -0.04177491  0.06738597  0.02405838\n",
      " -0.00556065 -0.01315776  0.14164303  0.1385396   0.22632719  0.15450903\n",
      "  0.19862555  0.03330752  0.18472547]\n",
      "weighted_weight: [ 0.06953616 -0.28085763 -0.0307807  -0.04680442  0.07549893  0.0269549\n",
      " -0.00623012 -0.0147419   0.1586962   0.15521913  0.25357594  0.1731112\n",
      "  0.22253915  0.03731759  0.20696556]\n",
      "[ 6  7  5  2 13  3  0  4  9  8 11 14 12 10  1]\n"
     ]
    }
   ],
   "source": [
    "# 确定权重\n",
    "# 求指标在不同主成分线性组合中的系数\n",
    "k1_spss = pca.components_.T\n",
    "weight = (np.dot(k1_spss, pca.explained_variance_ratio_)) / np.sum(pca.explained_variance_ratio_)\n",
    "print('weight:',weight)\n",
    "# \n",
    "weighted_weight = weight/np.sum(weight)\n",
    "print('weighted_weight:', weighted_weight)\n",
    "\n",
    "print(np.abs(weight).argsort())\n"
   ]
  },
  {
   "cell_type": "code",
   "execution_count": 5,
   "metadata": {},
   "outputs": [
    {
     "name": "stdout",
     "output_type": "stream",
     "text": [
      "\n",
      "因子分析适用性检验:\n",
      "kmo:0.3262397308293979,bartlett:nan\n",
      "\n",
      "相关系数:\n",
      "           degree       sio       nao        ko       cao       mgo       alo  \\\n",
      "degree  1.000000 -0.401950 -0.033360 -0.580315 -0.166618 -0.126884 -0.172302   \n",
      "sio    -0.401950  1.000000  0.144986  0.361133 -0.173903  0.032410  0.187792   \n",
      "nao    -0.033360  0.144986  1.000000  0.108935 -0.148994 -0.001710  0.077210   \n",
      "ko     -0.580315  0.361133  0.108935  1.000000  0.535752  0.255827  0.320561   \n",
      "cao    -0.166618 -0.173903 -0.148994  0.535752  1.000000  0.302628  0.342471   \n",
      "mgo    -0.126884  0.032410 -0.001710  0.255827  0.302628  1.000000  0.492743   \n",
      "alo    -0.172302  0.187792  0.077210  0.320561  0.342471  0.492743  1.000000   \n",
      "feo    -0.376862  0.098078 -0.170847  0.366693  0.452435  0.418589  0.411218   \n",
      "cuo    -0.006888 -0.235874 -0.065341  0.077436  0.087653 -0.208272 -0.162756   \n",
      "pbo     0.503356 -0.853243 -0.168749 -0.568140 -0.055398 -0.098958 -0.352490   \n",
      "bao     0.213215 -0.630362 -0.027009 -0.407529 -0.208497 -0.364164 -0.303588   \n",
      "po      0.350586 -0.576042 -0.338471 -0.213529  0.226845  0.243991 -0.028383   \n",
      "sro     0.284677 -0.683433 -0.055404 -0.392223 -0.053142  0.028828 -0.172008   \n",
      "sno    -0.105064  0.101931 -0.090520  0.143486 -0.067524  0.228871  0.160648   \n",
      "so      0.122853 -0.345618 -0.113597 -0.086431  0.031685 -0.224444 -0.189611   \n",
      "\n",
      "             feo       cuo       pbo       bao        po       sro       sno  \\\n",
      "degree -0.376862 -0.006888  0.503356  0.213215  0.350586  0.284677 -0.105064   \n",
      "sio     0.098078 -0.235874 -0.853243 -0.630362 -0.576042 -0.683433  0.101931   \n",
      "nao    -0.170847 -0.065341 -0.168749 -0.027009 -0.338471 -0.055404 -0.090520   \n",
      "ko      0.366693  0.077436 -0.568140 -0.407529 -0.213529 -0.392223  0.143486   \n",
      "cao     0.452435  0.087653 -0.055398 -0.208497  0.226845 -0.053142 -0.067524   \n",
      "mgo     0.418589 -0.208272 -0.098958 -0.364164  0.243991  0.028828  0.228871   \n",
      "alo     0.411218 -0.162756 -0.352490 -0.303588 -0.028383 -0.172008  0.160648   \n",
      "feo     1.000000 -0.021016 -0.232584 -0.299176  0.111511 -0.171518 -0.018686   \n",
      "cuo    -0.021016  1.000000 -0.085579  0.541729  0.087653  0.126427 -0.188695   \n",
      "pbo    -0.232584 -0.085579  1.000000  0.350094  0.440146  0.648718 -0.109028   \n",
      "bao    -0.299176  0.541729  0.350094  1.000000  0.162534  0.406291 -0.086137   \n",
      "po      0.111511  0.087653  0.440146  0.162534  1.000000  0.399120 -0.053260   \n",
      "sro    -0.171518  0.126427  0.648718  0.406291  0.399120  1.000000 -0.045550   \n",
      "sno    -0.018686 -0.188695 -0.109028 -0.086137 -0.053260 -0.045550  1.000000   \n",
      "so     -0.153425  0.215722  0.048483  0.577813  0.188252  0.210498 -0.050633   \n",
      "\n",
      "              so  \n",
      "degree  0.122853  \n",
      "sio    -0.345618  \n",
      "nao    -0.113597  \n",
      "ko     -0.086431  \n",
      "cao     0.031685  \n",
      "mgo    -0.224444  \n",
      "alo    -0.189611  \n",
      "feo    -0.153425  \n",
      "cuo     0.215722  \n",
      "pbo     0.048483  \n",
      "bao     0.577813  \n",
      "po      0.188252  \n",
      "sro     0.210498  \n",
      "sno    -0.050633  \n",
      "so      1.000000  \n",
      "\n",
      "协方差矩阵：\n",
      " [[ 1.01470588 -0.40786067 -0.03385075 -0.58884889 -0.16906788 -0.12875005\n",
      "  -0.17483592 -0.38240373 -0.00698965  0.51075827  0.21635045  0.3557412\n",
      "   0.28886324 -0.10660938  0.12465984]\n",
      " [-0.40786067  1.01470588  0.1471184   0.36644389 -0.17646001  0.0328862\n",
      "   0.19055387  0.09952082 -0.23934238 -0.86579019 -0.63963226 -0.58451316\n",
      "  -0.69348382  0.10343004 -0.35070011]\n",
      " [-0.03385075  0.1471184   1.01470588  0.11053703 -0.15118543 -0.00173487\n",
      "   0.07834494 -0.1733596  -0.06630151 -0.17123053 -0.02740617 -0.34344869\n",
      "  -0.0562187  -0.09185102 -0.11526709]\n",
      " [-0.58884889  0.36644389  0.11053703  1.01470588  0.54363082  0.25958871\n",
      "   0.32527463  0.3720855   0.07857459 -0.5764952  -0.41352165 -0.2166694\n",
      "  -0.39799141  0.14559619 -0.08770237]\n",
      " [-0.16906788 -0.17646001 -0.15118543  0.54363082  1.01470588  0.30707871\n",
      "   0.34750781  0.45908854  0.08894175 -0.05621284 -0.21156345  0.23018099\n",
      "  -0.05392325 -0.06851706  0.03215107]\n",
      " [-0.12875005  0.0328862  -0.00173487  0.25958871  0.30707871  1.01470588\n",
      "   0.49998919  0.42474469 -0.21133497 -0.10041342 -0.3695189   0.2475796\n",
      "   0.02925196  0.23223631 -0.22774474]\n",
      " [-0.17483592  0.19055387  0.07834494  0.32527463  0.34750781  0.49998919\n",
      "   1.01470588  0.41726548 -0.16514954 -0.35767416 -0.30805283 -0.02880045\n",
      "  -0.17453801  0.16301085 -0.19239971]\n",
      " [-0.38240373  0.09952082 -0.1733596   0.3720855   0.45908854  0.42474469\n",
      "   0.41726548  1.01470588 -0.02132507 -0.23600427 -0.30357559  0.11315048\n",
      "  -0.17404028 -0.01896093 -0.15568127]\n",
      " [-0.00698965 -0.23934238 -0.06630151  0.07857459  0.08894175 -0.21133497\n",
      "  -0.16514954 -0.02132507  1.01470588 -0.08683719  0.54969512  0.08894159\n",
      "   0.12828649 -0.1914697   0.21889398]\n",
      " [ 0.51075827 -0.86579019 -0.17123053 -0.5764952  -0.05621284 -0.10041342\n",
      "  -0.35767416 -0.23600427 -0.08683719  1.01470588  0.35524248  0.44661921\n",
      "   0.65825827 -0.11063133  0.04919646]\n",
      " [ 0.21635045 -0.63963226 -0.02740617 -0.41352165 -0.21156345 -0.3695189\n",
      "  -0.30805283 -0.30357559  0.54969512  0.35524248  1.01470588  0.16492442\n",
      "   0.41226536 -0.08740328  0.58631042]\n",
      " [ 0.3557412  -0.58451316 -0.34344869 -0.2166694   0.23018099  0.2475796\n",
      "  -0.02880045  0.11315048  0.08894159  0.44661921  0.16492442  1.01470588\n",
      "   0.4049896  -0.05404312  0.19102025]\n",
      " [ 0.28886324 -0.69348382 -0.0562187  -0.39799141 -0.05392325  0.02925196\n",
      "  -0.17453801 -0.17404028  0.12828649  0.65825827  0.41226536  0.4049896\n",
      "   1.01470588 -0.04622014  0.21359366]\n",
      " [-0.10660938  0.10343004 -0.09185102  0.14559619 -0.06851706  0.23223631\n",
      "   0.16301085 -0.01896093 -0.1914697  -0.11063133 -0.08740328 -0.05404312\n",
      "  -0.04622014  1.01470588 -0.05137722]\n",
      " [ 0.12465984 -0.35070011 -0.11526709 -0.08770237  0.03215107 -0.22774474\n",
      "  -0.19239971 -0.15568127  0.21889398  0.04919646  0.58631042  0.19102025\n",
      "   0.21359366 -0.05137722  1.01470588]]\n"
     ]
    },
    {
     "name": "stderr",
     "output_type": "stream",
     "text": [
      "/home/cqy/anaconda3/lib/python3.9/site-packages/factor_analyzer/utils.py:244: UserWarning: The inverse of the variance-covariance matrix was calculated using the Moore-Penrose generalized matrix inversion, due to its determinant being at or very close to zero.\n",
      "  warnings.warn(\n",
      "/home/cqy/anaconda3/lib/python3.9/site-packages/factor_analyzer/factor_analyzer.py:108: RuntimeWarning: invalid value encountered in log\n",
      "  statistic = -np.log(corr_det) * (n - 1 - (2 * p + 5) / 6)\n"
     ]
    }
   ],
   "source": [
    "# 因子分析代码\n",
    "from factor_analyzer import factor_analyzer, Rotator\n",
    "from factor_analyzer import FactorAnalyzer, calculate_kmo, calculate_bartlett_sphericity\n",
    "from sklearn.preprocessing import MinMaxScaler,StandardScaler\n",
    "data = pd.read_csv(\"../std_data.csv\").drop([\"id\"], axis=1)\n",
    "data=data.drop([\"type\"],axis=1)\n",
    "std = StandardScaler()\n",
    "data_zs = std.fit_transform(data)\n",
    "data_zs\n",
    "kmo = calculate_kmo(data)  \n",
    "# bartlett球形度检验p值要小于0.05\n",
    "bartlett = calculate_bartlett_sphericity(data)  \n",
    "print(\"\\n因子分析适用性检验:\")\n",
    "print('kmo:{},bartlett:{}'.format(kmo[1], bartlett[1]))\n",
    "\n",
    "# 皮尔森相关系数\n",
    "data_corr=data.corr()\n",
    "print(\"\\n相关系数:\\n\",data_corr)\n",
    "#获得协方差矩阵，cov是numpy库中计算协方差的函数，获得协方差矩阵9*9\n",
    "#注：标准化后的矩阵的协方差矩阵 即为 原始数据的相关系数矩阵\n",
    "data_zs_cov = np.cov(data_zs.T)\n",
    "print(\"\\n协方差矩阵：\\n\",data_zs_cov)\n"
   ]
  }
 ],
 "metadata": {
  "kernelspec": {
   "display_name": "Python 3.9.7 ('base')",
   "language": "python",
   "name": "python3"
  },
  "language_info": {
   "codemirror_mode": {
    "name": "ipython",
    "version": 3
   },
   "file_extension": ".py",
   "mimetype": "text/x-python",
   "name": "python",
   "nbconvert_exporter": "python",
   "pygments_lexer": "ipython3",
   "version": "3.9.7"
  },
  "orig_nbformat": 4,
  "vscode": {
   "interpreter": {
    "hash": "648d8d9586a5c78aacf5d2001e33b7f17efe48eb523fe8964abf0a6c8058fa92"
   }
  }
 },
 "nbformat": 4,
 "nbformat_minor": 2
}
