{
 "cells": [
  {
   "cell_type": "code",
   "execution_count": 5,
   "metadata": {},
   "outputs": [],
   "source": [
    "import numpy as np\n",
    "import pandas as pd\n",
    "import matplotlib.pyplot as plt\n",
    "import seaborn as sns\n",
    "from sklearn.datasets import make_blobs\n",
    "from sklearn.cluster import KMeans\n",
    "from sklearn.metrics import silhouette_score\n",
    "from sklearn.metrics import calinski_harabasz_score\n",
    "import itertools as it\n",
    "import copy\n",
    "\n",
    "SEED = 4933\n",
    "\n",
    "all_columns = ['ko', 'cao', 'cuo', 'alo', 'sio']\n",
    "\n",
    "data = pd.read_csv(\"../data_after_cleaning.csv\")\n",
    "\n",
    "type_name = {\n",
    "    0 : \"铅钡类\",\n",
    "    1 : \"高钾类\",\n",
    "}\n",
    "\n",
    "sns.set(font='SimHei',style='white')\n",
    "\n",
    "def to_str(conbi):\n",
    "    ret = str(conbi[0])\n",
    "    for i in range(1, len(conbi)):\n",
    "        ret+= '+' + conbi[i]\n",
    "    return ret\n",
    "\n",
    "for type_ in range(2):\n",
    "    data1 = data[data.type == type_]\n",
    "    for chosen_num in range(2, len(all_columns) + 1):\n",
    "        results = []\n",
    "        for conbi in it.combinations(all_columns, chosen_num):\n",
    "            for k in range(2, 2**chosen_num):\n",
    "                # print(data1.info())\n",
    "                X = data1[list(conbi)]\n",
    "                cluster = KMeans(n_clusters=min(2**k, len(X)-1), random_state=SEED).fit(X)\n",
    "                y_pred = cluster.labels_\n",
    "                centroid = cluster.cluster_centers_\n",
    "                # 计算平均轮廓系数\n",
    "                sil = silhouette_score(X, y_pred)\n",
    "                # 值越大，说明同类样本相距约近，不同样本相距越远，则聚类效果越好\n",
    "                results.append((to_str(conbi), k, sil))\n",
    "        draw_data = pd.DataFrame(results)\n",
    "        draw_data.columns = ['成分组合','k 值','轮廓系数']\n",
    "        plt_ = sns.lineplot(x=\"k 值\", y=\"轮廓系数\",hue='成分组合',data=draw_data)\n",
    "        plt_.legend(loc=2, bbox_to_anchor=(1.05,1.0),borderaxespad = 0.)\n",
    "        plt.savefig(f'./k_means/{type_name[type_]}_{chosen_num}成分.png',dpi=400)\n"
   ]
  },
  {
   "cell_type": "code",
   "execution_count": null,
   "metadata": {},
   "outputs": [],
   "source": []
  }
 ],
 "metadata": {
  "kernelspec": {
   "display_name": "Python 3.9.7 ('base')",
   "language": "python",
   "name": "python3"
  },
  "language_info": {
   "codemirror_mode": {
    "name": "ipython",
    "version": 3
   },
   "file_extension": ".py",
   "mimetype": "text/x-python",
   "name": "python",
   "nbconvert_exporter": "python",
   "pygments_lexer": "ipython3",
   "version": "3.9.7"
  },
  "orig_nbformat": 4,
  "vscode": {
   "interpreter": {
    "hash": "648d8d9586a5c78aacf5d2001e33b7f17efe48eb523fe8964abf0a6c8058fa92"
   }
  }
 },
 "nbformat": 4,
 "nbformat_minor": 2
}
