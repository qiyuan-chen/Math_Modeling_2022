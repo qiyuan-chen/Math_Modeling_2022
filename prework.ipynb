{
 "cells": [
  {
   "cell_type": "code",
   "execution_count": 148,
   "metadata": {},
   "outputs": [],
   "source": [
    "import pandas as pd\n",
    "import numpy as np\n",
    "\n",
    "excel_reader = pd.ExcelFile('./data.xlsx')  \n",
    "sheet_names = excel_reader.sheet_names  # 读取文件的所有表单名，得到列表\n",
    "df_sheet =  [excel_reader.parse(sheet_name=sheet_names[i]) for i in range(3)]\n",
    "\n",
    "df_sheet[0] = df_sheet[0].rename(columns={\n",
    "    \"文物编号\" : \"id\",\n",
    "    \"纹饰\"     : \"ornament\",\n",
    "    \"类型\"     : \"type\",\n",
    "    \"颜色\"     : \"color\",\n",
    "    \"表面风化\" : \"degree\",\n",
    "})\n",
    "\n",
    "df_sheet[1] = df_sheet[1].rename(columns={\n",
    "    \"文物采样点\"       : \"id\",\n",
    "    \"二氧化硅(SiO2)\"   : \"sio\",\n",
    "    \"氧化钠(Na2O)\"     : \"nao\",\n",
    "    \"氧化钾(K2O)\"      : \"ko\",\n",
    "    \"氧化钙(CaO)\"      : \"cao\", \n",
    "    \"氧化镁(MgO)\"      : \"mgo\",\n",
    "    \"氧化铝(Al2O3)\"    : \"alo\",\n",
    "    \"氧化铁(Fe2O3)\"    : \"feo\",\n",
    "    \"氧化铜(CuO)\"      : \"cuo\",\n",
    "    \"氧化铅(PbO)\"      : \"pbo\",\n",
    "    \"氧化钡(BaO)\"      : \"bao\",\n",
    "    \"五氧化二磷(P2O5)\" : \"po\",\n",
    "    \"氧化锶(SrO)\"      : \"sro\",\n",
    "    \"氧化锡(SnO2)\"     : \"sno\",\n",
    "    \"二氧化硫(SO2)\"    : \"so\",\n",
    "})\n",
    "\n",
    "df_sheet[2] = df_sheet[2].rename(columns={\n",
    "    \"文物编号\"         : \"id\",\n",
    "    \"表面风化\"         : \"degree\",\n",
    "    \"二氧化硅(SiO2)\"   : \"sio\",\n",
    "    \"氧化钠(Na2O)\"     : \"nao\",\n",
    "    \"氧化钾(K2O)\"      : \"ko\",\n",
    "    \"氧化钙(CaO)\"      : \"cao\", \n",
    "    \"氧化镁(MgO)\"      : \"mgo\",\n",
    "    \"氧化铝(Al2O3)\"    : \"alo\",\n",
    "    \"氧化铁(Fe2O3)\"    : \"feo\",\n",
    "    \"氧化铜(CuO)\"      : \"cuo\",\n",
    "    \"氧化铅(PbO)\"      : \"pbo\",\n",
    "    \"氧化钡(BaO)\"      : \"bao\",\n",
    "    \"五氧化二磷(P2O5)\" : \"po\",\n",
    "    \"氧化锶(SrO)\"      : \"sro\",\n",
    "    \"氧化锡(SnO2)\"     : \"sno\",\n",
    "    \"二氧化硫(SO2)\"    : \"so\",\n",
    "})\n",
    "\n",
    "for i in range(3):\n",
    "    df_sheet[i].to_csv(f\"sheet{i}_origin.csv\",index=False)"
   ]
  },
  {
   "cell_type": "code",
   "execution_count": 149,
   "metadata": {},
   "outputs": [],
   "source": [
    "from sklearn.preprocessing import LabelEncoder \n",
    "\n",
    "def to_num(df: pd.DataFrame, col):\n",
    "    le = LabelEncoder()\n",
    "    types = df[col].drop_duplicates().sort_values()\n",
    "    df[col] = le.fit_transform(df[col])\n",
    "    for type_ in types:\n",
    "        if type(type_) == float and np.isnan(type_):\n",
    "            print(\"Nan _\")\n",
    "        else:\n",
    "            print(type_, le.transform((type_,))[0])\n"
   ]
  },
  {
   "cell_type": "code",
   "execution_count": 150,
   "metadata": {},
   "outputs": [
    {
     "name": "stdout",
     "output_type": "stream",
     "text": [
      "A 0\n",
      "B 1\n",
      "C 2\n"
     ]
    }
   ],
   "source": [
    "to_num(df_sheet[0], 'ornament')\n"
   ]
  },
  {
   "cell_type": "code",
   "execution_count": 151,
   "metadata": {},
   "outputs": [
    {
     "name": "stdout",
     "output_type": "stream",
     "text": [
      "铅钡 0\n",
      "高钾 1\n"
     ]
    }
   ],
   "source": [
    "to_num(df_sheet[0], 'type')\n"
   ]
  },
  {
   "cell_type": "code",
   "execution_count": 152,
   "metadata": {},
   "outputs": [
    {
     "name": "stdout",
     "output_type": "stream",
     "text": [
      "浅绿 0\n",
      "浅蓝 1\n",
      "深绿 2\n",
      "深蓝 3\n",
      "紫 4\n",
      "绿 5\n",
      "蓝绿 6\n",
      "黑 7\n",
      "Nan _\n"
     ]
    }
   ],
   "source": [
    "to_num(df_sheet[0], 'color')\n"
   ]
  },
  {
   "cell_type": "code",
   "execution_count": 153,
   "metadata": {},
   "outputs": [
    {
     "name": "stdout",
     "output_type": "stream",
     "text": [
      "无风化 0\n",
      "风化 1\n"
     ]
    }
   ],
   "source": [
    "to_num(df_sheet[0], 'degree')\n"
   ]
  },
  {
   "cell_type": "code",
   "execution_count": 124,
   "metadata": {},
   "outputs": [],
   "source": [
    "df_sheet[0].to_csv(\"sheet0_num.csv\", index=False)\n"
   ]
  },
  {
   "cell_type": "code",
   "execution_count": 128,
   "metadata": {},
   "outputs": [],
   "source": [
    "translater = {\n",
    "    \"铅钡\" : \"lead_barium\",\n",
    "    \"高钾\" : \"high_potassium\",\n",
    "    \"A\" : \"A\",\n",
    "    \"B\" : \"B\",\n",
    "    \"C\" : \"C\",\n",
    "    \"蓝绿\" : \"blue_green\",\n",
    "    \"浅绿\" : \"light_green\",\n",
    "    \"深绿\" : \"dark_green\",\n",
    "    \"深蓝\" : \"deep_blue\",\n",
    "    \"浅蓝\" : \"light_blue\",\n",
    "    \"紫\"   : \"purple\",\n",
    "    \"绿\"   : \"green\",\n",
    "    \"黑\"   : \"black\",\n",
    "    \"无风化\" : \"none_weathered\",\n",
    "    \"风化\"   : \"weathered\",\n",
    "    \"0\" : \"none_weathered\",\n",
    "    \"1\" : \"weathered\"\n",
    "}\n",
    "\n",
    "def to_one_hot(df: pd.DataFrame, col):\n",
    "    df_one_hot = pd.get_dummies(df[col])\n",
    "    df_one_hot.columns = df_one_hot.columns.map(translater)\n",
    "    return pd.concat([df, df_one_hot], axis=1, join='inner').drop(columns=[col])\n",
    "\n",
    "ret = to_one_hot(pd.read_csv('sheet0_origin.csv'), 'ornament')\n",
    "ret = to_one_hot(ret, 'type')\n",
    "ret = to_one_hot(ret, 'color')\n",
    "ret = to_one_hot(ret, 'degree')\n",
    "ret.to_csv(\"sheet0_one_hot.csv\", index=False)\n"
   ]
  },
  {
   "cell_type": "code",
   "execution_count": 14,
   "metadata": {},
   "outputs": [],
   "source": [
    "import pandas as pd\n",
    "import numpy as np\n",
    "\n",
    "# 归一化\n",
    "\n",
    "sheet1 = pd.read_csv('./sheet1_1.csv').fillna(0)\n",
    "sheet1 = pd.concat([sheet1[['id','weathered']], sheet1.drop(columns=['id','weathered']).apply(lambda x: (x-np.mean(x)/np.std(x)))], axis=1)\n",
    "\n",
    "sheet1.to_csv(\"sheet1_2.csv\",index=False)"
   ]
  },
  {
   "cell_type": "code",
   "execution_count": 2,
   "metadata": {},
   "outputs": [],
   "source": [
    "import pandas as pd\n",
    "\n",
    "sheet0 = pd.read_csv(\"./sheet0_num.csv\")\n",
    "sheet1 = pd.read_csv(\"./sheet1_2.csv\")\n",
    "\n",
    "type_match = {\n",
    "    0 : '铅钡',\n",
    "    1 : '高钾',\n",
    "}\n",
    "\n",
    "sheet0 = sheet0[['id', 'type']]\n",
    "\n",
    "data = sheet1.merge(sheet0, left_on='id', right_on='id', how='inner')\n",
    "\n",
    "data.to_csv(\"sheet1_3.csv\",index=False)\n",
    "\n",
    "for type_ in range(2):\n",
    "    data1 = data[data.type == type_]\n",
    "    data1 = data1.drop(columns=['type'])\n",
    "    data1.to_csv(f\"sheet1_{type_match[type_]}.csv\", index=False)\n"
   ]
  },
  {
   "cell_type": "code",
   "execution_count": 38,
   "metadata": {},
   "outputs": [
    {
     "name": "stdout",
     "output_type": "stream",
     "text": [
      "(['nao', 'ko', 'mgo', 'feo', 'bao', 'sro', 'sno', 'so'], ['sio', 'cao', 'alo', 'cuo', 'pbo', 'po'])\n"
     ]
    }
   ],
   "source": [
    "import pandas as pd\n",
    "\n",
    "all_columns = ['sio', 'nao', 'ko', 'cao', 'mgo', 'alo', 'feo', 'cuo', 'pbo', 'bao', 'po', 'sro', 'sno', 'so']\n",
    "\n",
    "data = pd.read_csv(\"./sheet1_1.csv\").fillna(0)\n",
    "\n",
    "DROP_RATE = 0.25\n",
    "\n",
    "def rip_off_mass_nan_columns(df, columns, drop_rate):\n",
    "    chosen_columns = []\n",
    "    dropted_columns = []\n",
    "    TOT_NUM = len(df)\n",
    "    for col_name in columns:\n",
    "        if len(data[data[col_name] < 1e-2]) / TOT_NUM < drop_rate:\n",
    "            dropted_columns.append(col_name)\n",
    "        else:\n",
    "            chosen_columns.append(col_name)\n",
    "    return chosen_columns, dropted_columns\n",
    "\n",
    "print(rip_off_mass_nan_columns(data, all_columns, DROP_RATE))\n",
    "# XGBOOST\n",
    "# 重要性绘图"
   ]
  }
 ],
 "metadata": {
  "kernelspec": {
   "display_name": "Python 3.7.5 64-bit",
   "language": "python",
   "name": "python3"
  },
  "language_info": {
   "codemirror_mode": {
    "name": "ipython",
    "version": 3
   },
   "file_extension": ".py",
   "mimetype": "text/x-python",
   "name": "python",
   "nbconvert_exporter": "python",
   "pygments_lexer": "ipython3",
   "version": "3.7.5"
  },
  "orig_nbformat": 4,
  "vscode": {
   "interpreter": {
    "hash": "767d51c1340bd893661ea55ea3124f6de3c7a262a8b4abca0554b478b1e2ff90"
   }
  }
 },
 "nbformat": 4,
 "nbformat_minor": 2
}
